{
 "cells": [
  {
   "cell_type": "code",
   "execution_count": null,
   "id": "b985522b",
   "metadata": {},
   "outputs": [],
   "source": [
    "Use a python code to display the following star pattern using the for loop\n"
   ]
  },
  {
   "cell_type": "code",
   "execution_count": 30,
   "id": "257ef50b",
   "metadata": {},
   "outputs": [
    {
     "name": "stdout",
     "output_type": "stream",
     "text": [
      "* \r\n",
      "* * \r\n",
      "* * * \r\n",
      "* * * * \r\n",
      "* * * * * \r\n",
      "* * * * \r\n",
      "* * * \r\n",
      "* * \r\n",
      "* \r\n",
      "\r\n"
     ]
    }
   ],
   "source": [
    "rows = 5\n",
    "for i in range(0, rows):\n",
    "    for j in range(0, i + 1):\n",
    "        print(\"*\", end=' ')\n",
    "    print(\"\\r\") #goes back to the beginning of the line\n",
    "\n",
    "for i in range(rows, 0, -1):\n",
    "    for j in range(0, i - 1):\n",
    "        print(\"*\", end=' ')\n",
    "    print(\"\\r\")"
   ]
  },
  {
   "cell_type": "code",
   "execution_count": 8,
   "id": "063780cf",
   "metadata": {},
   "outputs": [
    {
     "ename": "SyntaxError",
     "evalue": "invalid syntax (1748489986.py, line 1)",
     "output_type": "error",
     "traceback": [
      "\u001b[1;36m  Input \u001b[1;32mIn [8]\u001b[1;36m\u001b[0m\n\u001b[1;33m    Use looping to output the elements from a provided list present at odd indexes.\u001b[0m\n\u001b[1;37m        ^\u001b[0m\n\u001b[1;31mSyntaxError\u001b[0m\u001b[1;31m:\u001b[0m invalid syntax\n"
     ]
    }
   ],
   "source": [
    "Use looping to output the elements from a provided list present at odd indexes.\n",
    "my_list = [10, 20, 30, 40, 50, 60, 70, 80, 90, 100]"
   ]
  },
  {
   "cell_type": "code",
   "execution_count": 9,
   "id": "18ea840b",
   "metadata": {},
   "outputs": [
    {
     "name": "stdout",
     "output_type": "stream",
     "text": [
      "20 40 60 80 100 "
     ]
    }
   ],
   "source": [
    "my_list = [10, 20, 30, 40, 50, 60, 70, 80, 90, 100]\n",
    "# slicing method:start from index 1 with step 2( means 1, 3, 5, an so on)\n",
    "for i in my_list[1::2]:\n",
    "    print(i, end=\" \")"
   ]
  },
  {
   "cell_type": "code",
   "execution_count": null,
   "id": "88d947fb",
   "metadata": {},
   "outputs": [],
   "source": [
    "Write a code that appends the type of elements from a given list.\n",
    "Input\n",
    " x = [23, ‘Python’, 23.98]"
   ]
  },
  {
   "cell_type": "code",
   "execution_count": 28,
   "id": "d8f4aad6",
   "metadata": {},
   "outputs": [
    {
     "name": "stdout",
     "output_type": "stream",
     "text": [
      "[23, 'Python', 23.98]\n",
      "[<class 'int'>, <class 'str'>, <class 'float'>]\n"
     ]
    }
   ],
   "source": [
    "x = [23, 'Python', 23.98]\n",
    "y = []\n",
    "for i in range(len(x)):\n",
    "    y.append(type(x[i])) #appending the datatype of X in empty set y\n",
    "print(x)\n",
    "print(y)"
   ]
  },
  {
   "cell_type": "code",
   "execution_count": null,
   "id": "3ccb0ca4",
   "metadata": {},
   "outputs": [],
   "source": [
    "Write a function that takes a list and returns a new list with unique items of the first list.\n",
    "Sample List: [1,2,3,3,3,3,4,5]\n",
    "Unique List: [1, 2, 3, 4, 5]"
   ]
  },
  {
   "cell_type": "code",
   "execution_count": 21,
   "id": "73e1457a",
   "metadata": {},
   "outputs": [
    {
     "name": "stdout",
     "output_type": "stream",
     "text": [
      "unique_list:  [1, 2, 3, 4, 5]\n"
     ]
    }
   ],
   "source": [
    "def unique_list(x):\n",
    "  y = []\n",
    "  for z in x:\n",
    "    if z not in y:\n",
    "      y.append(z) #appending the unique list in y\n",
    "  return y\n",
    "\n",
    "print(\"unique_list: \", unique_list([1,2,3,3,3,3,4,5])) "
   ]
  },
  {
   "cell_type": "code",
   "execution_count": null,
   "id": "50bbf85a",
   "metadata": {},
   "outputs": [],
   "source": [
    "Write a function that accepts a string and calculate the number of upper-case letters and lower-case\n",
    "letters.\n",
    "Input String: 'The quick Brow Fox'\n",
    "Expected Output:\n",
    "No. of Upper-case characters: 3\n",
    "No. of Lower-case Characters: 12"
   ]
  },
  {
   "cell_type": "code",
   "execution_count": 25,
   "id": "2c367488",
   "metadata": {},
   "outputs": [
    {
     "name": "stdout",
     "output_type": "stream",
     "text": [
      "Input String : The quick Brow Fox\n",
      "No. of Upper case characters :  3\n",
      "No. of Lower case Characters :  12\n"
     ]
    }
   ],
   "source": [
    "def string(a):\n",
    "    d={\"UPPER_CASE\":0, \"LOWER_CASE\":0}\n",
    "    for b in a:\n",
    "        if b.isupper():\n",
    "           d[\"UPPER_CASE\"]+=1\n",
    "        elif b.islower():\n",
    "           d[\"LOWER_CASE\"]+=1\n",
    "        else:\n",
    "           pass\n",
    "    print (\"Input String :\", a)\n",
    "    print (\"No. of Upper case characters : \", d[\"UPPER_CASE\"])\n",
    "    print (\"No. of Lower case Characters : \", d[\"LOWER_CASE\"])\n",
    "\n",
    "string('The quick Brow Fox')"
   ]
  },
  {
   "cell_type": "code",
   "execution_count": null,
   "id": "6a276f47",
   "metadata": {},
   "outputs": [],
   "source": []
  }
 ],
 "metadata": {
  "kernelspec": {
   "display_name": "Python 3 (ipykernel)",
   "language": "python",
   "name": "python3"
  },
  "language_info": {
   "codemirror_mode": {
    "name": "ipython",
    "version": 3
   },
   "file_extension": ".py",
   "mimetype": "text/x-python",
   "name": "python",
   "nbconvert_exporter": "python",
   "pygments_lexer": "ipython3",
   "version": "3.9.12"
  }
 },
 "nbformat": 4,
 "nbformat_minor": 5
}
