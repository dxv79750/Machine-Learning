{
 "cells": [
  {
   "cell_type": "code",
   "execution_count": 18,
   "id": "7d269996",
   "metadata": {},
   "outputs": [
    {
     "ename": "SyntaxError",
     "evalue": "invalid syntax (3167394166.py, line 1)",
     "output_type": "error",
     "traceback": [
      "\u001b[1;36m  Input \u001b[1;32mIn [18]\u001b[1;36m\u001b[0m\n\u001b[1;33m    Question 1\u001b[0m\n\u001b[1;37m             ^\u001b[0m\n\u001b[1;31mSyntaxError\u001b[0m\u001b[1;31m:\u001b[0m invalid syntax\n"
     ]
    }
   ],
   "source": [
    "Question 1\n",
    "The following is a list of 10 students ages:\n",
    "ages = [19, 22, 19, 24, 20, 25, 26, 24, 25, 24]\n",
    "• Sort the list and find the min and max age\n",
    "• Add the min age and the max age again to the list\n",
    "• Find the median age (one middle item or two middle items divided by two)\n",
    "• Find the average age (sum of all items divided by their number)\n",
    "• Find the range of the ages (max minus min)"
   ]
  },
  {
   "cell_type": "code",
   "execution_count": 19,
   "id": "593ad4a5",
   "metadata": {},
   "outputs": [
    {
     "name": "stdout",
     "output_type": "stream",
     "text": [
      "Sorted list [19, 19, 20, 22, 24, 24, 24, 25, 25, 26]\n",
      "Minimum age is 19 and Maximum age is 26\n",
      "Median 24\n",
      "Average  24.82\n",
      "Range of ages list is 7\n"
     ]
    }
   ],
   "source": [
    "import math\n",
    "ages=[19, 22, 19, 24, 20, 25, 26, 24, 25, 24] # Assigning values to the list named \"ages\"\n",
    "ages.sort() # Sorting the ages using the predefined method sort()\n",
    "print(\"Sorted list\", ages)\n",
    "minage=min(ages)\n",
    "maxage=max(ages)\n",
    "print(\"Minimum age is\",minage, \"and Maximum age is\",maxage)\n",
    "ages.append(ages[0]+ages[-1]) # Appending the min and max values to list again\n",
    "mid= len(ages) // 2 # Finding middle index\n",
    "sum_age=0\n",
    "if len(ages) %2==0:\n",
    "    median=(ages [mid]+ages[~mid])/2 #if length is even, dividing two middle items\n",
    "else:\n",
    "    median=ages [mid] # else middle index values will be median\n",
    "for age in ages: #Looping through every value in list and adding them together\n",
    "    sum_age=sum_age+age\n",
    "average=round(sum_age/len(ages), 2) #Taking the average and rounding it upto 2 decimal points\n",
    "print(\"Median\", median)\n",
    "print(\"Average \", average)\n",
    "print(\"Range of ages list is\",maxage-minage)"
   ]
  },
  {
   "cell_type": "code",
   "execution_count": null,
   "id": "e585c1cd",
   "metadata": {},
   "outputs": [],
   "source": [
    "Question 2\n",
    "• Create an empty dictionary called dog\n",
    "• Add name, color, breed, legs, age to the dog dictionary\n",
    "• Create a student dictionary and add first_name, last_name, gender, age, marital status, skills, country, city and address as keys for the dictionary\n",
    "• Get the length of the student dictionary\n",
    "• Get the value of skills and check the data type, it should be a list\n",
    "• Modify the skills values by adding one or two skills\n",
    "• Get the dictionary keys as a list\n",
    "• Get the dictionary values as a list"
   ]
  },
  {
   "cell_type": "code",
   "execution_count": 20,
   "id": "ef4503af",
   "metadata": {},
   "outputs": [
    {
     "name": "stdout",
     "output_type": "stream",
     "text": [
      "{'Name': 'Bruno', 'Color': 'Brown', 'Breed': 'golden retriever', 'legs': 4, 'Age': 3}\n",
      "{'First_name': 'Deepthi', 'Last_name': 'Vemula', 'Gender': 'Female', 'Age': 29, 'Marital_status': 'Single', 'Skill': ['Java', 'Python'], 'Country': 'India', 'City': 'Kansas', 'Address': '632 Travis Lane'}\n",
      "Lenght of student dictionary: 9\n",
      "Value of skills: ['Java', 'Python'] data type: <class 'list'>\n",
      "Dictionary keys: dict_keys(['First_name', 'Last_name', 'Gender', 'Age', 'Marital_status', 'Skill', 'Country', 'City', 'Address'])\n",
      "Dictionary values: dict_values(['Deepthi', 'Vemula', 'Female', 29, 'Single', ['Hadoop', 'PowerBI'], 'India', 'Kansas', '632 Travis Lane'])\n"
     ]
    }
   ],
   "source": [
    "dog=dict() # Creating an empty Dictionary dog\n",
    "dogDetails=(('Name','Bruno'),('Color','Brown'),('Breed','golden retriever'),('legs',4),('Age',3))\n",
    "dog.update(dogDetails)  # Adding  name, color, breed, legs, age to the dog dictionary\n",
    "print(dog)\n",
    "# Creating a dict called student and assiging keys and values\n",
    "student={'First_name':'Deepthi','Last_name':'Vemula','Gender':'Female','Age':29,'Marital_status':'Single','Skill':['Java','Python'],\n",
    "             'Country':'India','City':'Kansas','Address':'632 Travis Lane'}\n",
    "print(student)\n",
    "print(\"Lenght of student dictionary:\",len(student)) # Printing length of the student dictionary using len() method\n",
    "print('Value of skills:',student['Skill'],\"data type:\",type(student['Skill'])) # Getting  the value of skills and data type which is list\n",
    "student['Skill']=['Hadoop','PowerBI'] # Modifing values for paticular keys (skills) in the dictionary \n",
    "print('Dictionary keys:',student.keys()) #  Getting the dictionary keys as a list where keys() method returns all keys\n",
    "print('Dictionary values:',student.values())  #  Getting the dictionary values as a list where values() method returns all values"
   ]
  },
  {
   "cell_type": "code",
   "execution_count": null,
   "id": "89e29c0f",
   "metadata": {},
   "outputs": [],
   "source": [
    "Question 3\n",
    "• Create a tuple containing names of your sisters and your brothers (imaginary siblings are fine)\n",
    "• Join brothers and sisters tuples and assign it to siblings\n",
    "• How many siblings do you have?\n",
    "• Modify the siblings tuple and add the name of your father and mother and assign it to family_members"
   ]
  },
  {
   "cell_type": "code",
   "execution_count": 21,
   "id": "f3d4580d",
   "metadata": {},
   "outputs": [
    {
     "name": "stdout",
     "output_type": "stream",
     "text": [
      "Siblings are ('B1', 'B2', 'B3', 'S1', 'S2', 'S3')\n",
      "There are 6 siblings\n",
      "Family members are ('F', 'M', 'B1', 'B2', 'B3', 'S1', 'S2', 'S3')\n"
     ]
    }
   ],
   "source": [
    "#creating a tuple and assigning values to it\n",
    "brothers=(\"B1\", \"B2\", \"B3\")\n",
    "sisters=(\"S1\",\"S2\",\"S3\")\n",
    "siblings=brothers+sisters #By using + operator we can join two tuples\n",
    "print(\"Siblings are\", siblings)\n",
    "print(\"There are\", len(siblings), \"siblings\")\n",
    "siblings=(\"F\", \"M\") + siblings #Adding new values to a tuple\n",
    "family_members=siblings\n",
    "print(\"Family members are\", family_members)"
   ]
  },
  {
   "cell_type": "code",
   "execution_count": null,
   "id": "089d0f66",
   "metadata": {},
   "outputs": [],
   "source": [
    "Question 4\n",
    "it_companies = {'Facebook', 'Google', 'Microsoft', 'Apple', 'IBM', 'Oracle', 'Amazon'}\n",
    "A = {19, 22, 24, 20, 25, 26}\n",
    "B = {19, 22, 20, 25, 26, 24, 28, 27}\n",
    "age = [22, 19, 24, 25, 26, 24, 25, 24]\n",
    "• Find the length of the set it_companies\n",
    "• Add 'Twitter' to it_companies\n",
    "• Insert multiple IT companies at once to the set it_companies\n",
    "• Remove one of the companies from the set it_companies\n",
    "• What is the difference between remove and discard\n",
    "• Join A and B\n",
    "• Find A intersection B\n",
    "• Is A subset of B\n",
    "• Are A and B disjoint sets\n",
    "• Join A with B and B with A\n",
    "• What is the symmetric difference between A and B\n",
    "• Delete the sets completely\n",
    "• Convert the ages to a set and compare the length of the list and the set."
   ]
  },
  {
   "cell_type": "code",
   "execution_count": 22,
   "id": "b8bc2489",
   "metadata": {},
   "outputs": [
    {
     "name": "stdout",
     "output_type": "stream",
     "text": [
      "Number of IT companies 7\n",
      "Adding new IT company  {'Microsoft', 'Amazon', 'Google', 'Apple', 'Twitter', 'Facebook', 'Oracle', 'IBM'}\n",
      "Adding multiple IT companies  {'Microsoft', 'Amazon', 'Oracle', 'IBM', 'Twitter', 'Facebook', 'Google', 'Wipro', 'Accenture', 'Apple'}\n",
      "Removing one IT company  {'Microsoft', 'Amazon', 'Oracle', 'IBM', 'Twitter', 'Facebook', 'Google', 'Accenture', 'Apple'}\n",
      "Remove method raises an error when value doesn't exist, whereas discard method doesn't raise an error\n",
      "A Union B {19, 20, 22, 24, 25, 26, 27, 28}\n",
      "A Intersection B  {19, 20, 22, 24, 25, 26}\n",
      "Is A is subset of B: True\n",
      "Is A and B are disjoint sets: False\n",
      "Join A with B {19, 20, 22, 24, 25, 26, 27, 28}\n",
      "Join B with A {19, 20, 22, 24, 25, 26, 27, 28}\n",
      "Symmetric difference between A and B  {27, 28}\n",
      "Sets A and B are deleted\n",
      "Converted age list to set  {19, 22, 24, 25, 26}\n",
      "Length of age list 8\n",
      "Length of age set 5\n",
      "difference between length of age list and length of age set is  3\n"
     ]
    }
   ],
   "source": [
    "it_companies = {'Facebook', 'Google', 'Microsoft', 'Apple', 'IBM', 'Oracle', 'Amazon'} # creating a set and assigning values\n",
    "A = {19, 22, 24, 20, 25, 26}\n",
    "B = {19, 22, 20, 25, 26, 24, 28, 27}\n",
    "age=[22, 19, 24, 25, 26, 24, 25, 24]\n",
    "print(\"Number of IT companies\",len (it_companies))#len() return the length of the set\n",
    "it_companies.add(\"Twitter\")#add() is used to add new values to the set\n",
    "print(\"Adding new IT company \",it_companies)\n",
    "it_companies.update([\"Accenture\",\"Wipro\"])#adding multiple values to the set using update\n",
    "print(\"Adding multiple IT companies \",it_companies)\n",
    "it_companies.remove(\"Wipro\") #remove() removes the value from set if the values exists else it throws error\n",
    "print(\"Removing one IT company \",it_companies)\n",
    "print(\"Remove method raises an error when value doesn't exist, whereas discard method doesn't raise an error\")\n",
    "AUB=A.union(B)#union() operation joins two sets\n",
    "print(\"A Union B\",AUB)\n",
    "AIB=A.intersection(B)#intersection () returns the common data from two sets\n",
    "print(\"A Intersection B \",AIB)\n",
    "print(\"Is A is subset of B:\",A.issubset(B)) #issubset() return boolean value whether b is subset of a or not\n",
    "print(\"Is A and B are disjoint sets:\",A.isdisjoint(B))#isdisjoint() return boolean value whether b is disjoint sets or not\n",
    "print(\"Join A with B\", AUB)# Joining A with B\n",
    "BUA=B.union(A)\n",
    "print(\"Join B with A\", BUA)# Joining B with A\n",
    "print(\"Symmetric difference between A and B \",A.symmetric_difference(B))\n",
    "#Using predefined method clear() for deleting the sets\n",
    "A.clear()\n",
    "B.clear()\n",
    "print(\"Sets A and B are deleted\")\n",
    "age_set=set(age) #type conversion from List ot set\n",
    "print(\"Converted age list to set \",age_set)\n",
    "print(\"Length of age list\",len(age))\n",
    "print(\"Length of age set\",len(age_set)) \n",
    "print(\"difference between length of age list and length of age set is \",len(age)-len (age_set))"
   ]
  },
  {
   "cell_type": "code",
   "execution_count": null,
   "id": "577d40c9",
   "metadata": {},
   "outputs": [],
   "source": [
    "Question 5\n",
    "The radius of a circle is 30 meters.\n",
    "• Calculate the area of a circle and assign the value to a variable name of _area_of_circle_\n",
    "• Calculate the circumference of a circle and assign the value to a variable name of _circum_of_circle_\n",
    "• Take radius as user input and calculate the area."
   ]
  },
  {
   "cell_type": "code",
   "execution_count": 23,
   "id": "307f3b83",
   "metadata": {},
   "outputs": [
    {
     "name": "stdout",
     "output_type": "stream",
     "text": [
      "Area of Circle with radius 30 is 2826.0\n",
      "Circumference of circle with radius 30 is 188.4\n",
      "Enter a radius 15\n",
      "Area of Circle 706.5\n"
     ]
    }
   ],
   "source": [
    "radius=30\n",
    "_area_of_circle_=3.14*(radius**2) #Using area of cirlce formula\n",
    "_circum_of_circle_=2*3.14*radius #Using circumference of cirlce formula\n",
    "\n",
    "\n",
    "print(\"Area of Circle with radius %d is\" % radius, _area_of_circle_)\n",
    "print(\"Circumference of circle with radius %d is\" % radius,_circum_of_circle_)\n",
    "\n",
    "radius=int((input(\"Enter a radius \")))#input() allows dynamic input from the user\n",
    "_area_of_circle_=3.14*(radius**2)#using area of cirlce formula\n",
    "print(\"Area of Circle\",_area_of_circle_)\n"
   ]
  },
  {
   "cell_type": "code",
   "execution_count": null,
   "id": "f521f3e2",
   "metadata": {},
   "outputs": [],
   "source": [
    "Question 6\n",
    "“I am a teacher and I love to inspire and teach people”\n",
    "• How many unique words have been used in the sentence? Use the split methods and set to get the unique words."
   ]
  },
  {
   "cell_type": "code",
   "execution_count": 24,
   "id": "765c4256",
   "metadata": {},
   "outputs": [
    {
     "name": "stdout",
     "output_type": "stream",
     "text": [
      "Number of unique words are 10\n"
     ]
    }
   ],
   "source": [
    "sentence=\"I am a teacher and I love to inspire and teach people\"\n",
    "unique_letter=set(sentence.split())#Splits a string into a list where each word is a List item\n",
    "print(\"Number of unique words are\",len(unique_letter))"
   ]
  },
  {
   "cell_type": "code",
   "execution_count": 25,
   "id": "f05acde2",
   "metadata": {},
   "outputs": [
    {
     "ename": "SyntaxError",
     "evalue": "invalid syntax (3285650593.py, line 1)",
     "output_type": "error",
     "traceback": [
      "\u001b[1;36m  Input \u001b[1;32mIn [25]\u001b[1;36m\u001b[0m\n\u001b[1;33m    Question 7\u001b[0m\n\u001b[1;37m             ^\u001b[0m\n\u001b[1;31mSyntaxError\u001b[0m\u001b[1;31m:\u001b[0m invalid syntax\n"
     ]
    }
   ],
   "source": [
    "Question 7\n",
    "Use a tab escape sequence to get the following lines.\n",
    "Name Age Country City\n",
    "Asabeneh 250 Finland Helsinki"
   ]
  },
  {
   "cell_type": "code",
   "execution_count": 26,
   "id": "fc007994",
   "metadata": {},
   "outputs": [
    {
     "name": "stdout",
     "output_type": "stream",
     "text": [
      "Name\t\tAge\tCountry\t\tCity\n",
      "Asabeneh\t250\tFinland\t\tHelsinki\n"
     ]
    }
   ],
   "source": [
    "print(\"Name\\t\\tAge\\tCountry\\t\\tCity\\nAsabeneh\\t250\\tFinland\\t\\tHelsinki\") #using escape sequence"
   ]
  },
  {
   "cell_type": "code",
   "execution_count": null,
   "id": "af48a144",
   "metadata": {},
   "outputs": [],
   "source": [
    "Question 8\n",
    "Use the string formatting method to display the following:\n",
    "radius = 10\n",
    "area = 3.14 * radius ** 2\n",
    "“The area of a circle with radius 10 is 314 meters square.”"
   ]
  },
  {
   "cell_type": "code",
   "execution_count": 27,
   "id": "a511b054",
   "metadata": {},
   "outputs": [
    {
     "name": "stdout",
     "output_type": "stream",
     "text": [
      "The area of a circle with radius 10 is 314.0 meters square.\n"
     ]
    }
   ],
   "source": [
    "radius = 10 \n",
    "area = 3.14 * radius ** 2 \n",
    "print(\"The area of a circle with radius %s is %s meters square.\" %(radius, area))#Using string formatting method"
   ]
  },
  {
   "cell_type": "code",
   "execution_count": null,
   "id": "cc1fa0fe",
   "metadata": {},
   "outputs": [],
   "source": [
    "Question 9\n",
    "Write a program, which reads weights (lbs.) of N students into a list and convert these weights to kilograms in a separate list using Loop. N: No of students (Read input from user)\n",
    "Ex: L1: [150, 155, 145, 148]\n",
    "Output: [68.03, 70.3, 65.77, 67.13]"
   ]
  },
  {
   "cell_type": "code",
   "execution_count": 28,
   "id": "48b7e0da",
   "metadata": {},
   "outputs": [
    {
     "name": "stdout",
     "output_type": "stream",
     "text": [
      "Enter total number of students 2\n",
      "Enter weight of student 0 110\n",
      "Enter weight of student 1 120\n",
      "Weights in Lb [110, 120]\n",
      "Weights in kg [49.9, 54.43]\n"
     ]
    }
   ],
   "source": [
    "no_of_students=int(input(\"Enter total number of students \")) #reading input from the user \n",
    "#creating empty list \n",
    "weights_in_lbs=[] \n",
    "weights_in_kg=[] \n",
    "for stu in range (no_of_students):\n",
    "    weights_in_lbs.append(int(input(\"Enter weight of student \"+str(stu)+\" \"))) #reading user input and appending to the list\n",
    "    weights_in_kg.append(round(weights_in_lbs [ stu]*0.453592,2)) #using mathmaticle operators coverting lbs to kg \n",
    "print(\"Weights in Lb\", weights_in_lbs) \n",
    "print(\"Weights in kg\", weights_in_kg)"
   ]
  },
  {
   "cell_type": "code",
   "execution_count": null,
   "id": "b72c594b",
   "metadata": {},
   "outputs": [],
   "source": []
  },
  {
   "cell_type": "code",
   "execution_count": null,
   "id": "697e5896",
   "metadata": {},
   "outputs": [],
   "source": []
  },
  {
   "cell_type": "code",
   "execution_count": null,
   "id": "7e576a8d",
   "metadata": {},
   "outputs": [],
   "source": []
  },
  {
   "cell_type": "code",
   "execution_count": null,
   "id": "34bac33c",
   "metadata": {},
   "outputs": [],
   "source": []
  }
 ],
 "metadata": {
  "kernelspec": {
   "display_name": "Python 3 (ipykernel)",
   "language": "python",
   "name": "python3"
  },
  "language_info": {
   "codemirror_mode": {
    "name": "ipython",
    "version": 3
   },
   "file_extension": ".py",
   "mimetype": "text/x-python",
   "name": "python",
   "nbconvert_exporter": "python",
   "pygments_lexer": "ipython3",
   "version": "3.9.12"
  }
 },
 "nbformat": 4,
 "nbformat_minor": 5
}
