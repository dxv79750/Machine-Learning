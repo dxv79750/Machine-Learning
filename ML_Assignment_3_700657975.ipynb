{
 "cells": [
  {
   "cell_type": "code",
   "execution_count": 125,
   "id": "7a876c8c",
   "metadata": {},
   "outputs": [],
   "source": [
    "import numpy as np\n",
    "from numpy import random\n"
   ]
  },
  {
   "cell_type": "code",
   "execution_count": 112,
   "id": "42c0a7fa",
   "metadata": {
    "scrolled": true
   },
   "outputs": [
    {
     "name": "stdout",
     "output_type": "stream",
     "text": [
      "[10 19  9 16 12  7 16  2 13  4 19 16  4 11 13]\n"
     ]
    }
   ],
   "source": [
    "# a. Using NumPy create random vector of size 15 having only Integers in the range 1-20.\n",
    "import numpy as np\n",
    "random_vector = np.random.randint(low=1, high=21, size=15)\n",
    "print(random_vector)"
   ]
  },
  {
   "cell_type": "code",
   "execution_count": 113,
   "id": "61ef91e5",
   "metadata": {},
   "outputs": [
    {
     "data": {
      "text/plain": [
       "array([[10, 19,  9, 16, 12],\n",
       "       [ 7, 16,  2, 13,  4],\n",
       "       [19, 16,  4, 11, 13]])"
      ]
     },
     "execution_count": 113,
     "metadata": {},
     "output_type": "execute_result"
    }
   ],
   "source": [
    "# 1.Reshape the array to 3 by 5\n",
    "array = random_vector.reshape(3, 5)\n",
    "array"
   ]
  },
  {
   "cell_type": "code",
   "execution_count": 114,
   "id": "9ed8883d",
   "metadata": {},
   "outputs": [
    {
     "name": "stdout",
     "output_type": "stream",
     "text": [
      "(3, 5)\n"
     ]
    }
   ],
   "source": [
    "# 2.Print array shape.\n",
    "print(array.shape)"
   ]
  },
  {
   "cell_type": "code",
   "execution_count": 115,
   "id": "b5bf7531",
   "metadata": {},
   "outputs": [
    {
     "data": {
      "text/plain": [
       "array([[10,  0,  9, 16, 12],\n",
       "       [ 7,  0,  2, 13,  4],\n",
       "       [ 0, 16,  4, 11, 13]])"
      ]
     },
     "execution_count": 115,
     "metadata": {},
     "output_type": "execute_result"
    }
   ],
   "source": [
    "#3.Replace the max in each row by 0\n",
    "max= np.argmax(array, axis=1, out=None)\n",
    "b=0\n",
    "for i in max:\n",
    "    array[b][i] = 0\n",
    "    b+=1\n",
    "array"
   ]
  },
  {
   "cell_type": "code",
   "execution_count": 124,
   "id": "3eed7417",
   "metadata": {},
   "outputs": [
    {
     "name": "stdout",
     "output_type": "stream",
     "text": [
      "Shape: (4, 3)\n",
      "Type: <class 'numpy.ndarray'>\n",
      "Data type: int32\n"
     ]
    }
   ],
   "source": [
    "# Create a 2-dimensional array of size 4 x 3 (composed of 4-byte integer elements), also print the shape, type and data type\n",
    "#of the array\n",
    "arr = np.array(random.randint(1,21,size=(4,3)), np.int32)\n",
    "print(\"Shape:\", arr.shape)\n",
    "print(\"Type:\", type(arr))\n",
    "print(\"Data type:\", arr.dtype)\n"
   ]
  },
  {
   "cell_type": "code",
   "execution_count": 92,
   "id": "b6fb4ee7",
   "metadata": {},
   "outputs": [
    {
     "name": "stdout",
     "output_type": "stream",
     "text": [
      "Eigenvalues:\n",
      "[2. 1.]\n",
      "Eigenvectors:\n",
      "[[0.89442719 0.70710678]\n",
      " [0.4472136  0.70710678]]\n"
     ]
    }
   ],
   "source": [
    "# b. Write a program to compute the eigenvalues and right eigenvectors of a given square array given below:\n",
    "a = np.array([[3, -2], [1, 0]])\n",
    "eigenvalues, eigenvectors = np.linalg.eig(a)\n",
    "print(\"Eigenvalues:\")\n",
    "print(eigenvalues)\n",
    "print(\"Eigenvectors:\")\n",
    "print(eigenvectors)"
   ]
  },
  {
   "cell_type": "code",
   "execution_count": 47,
   "id": "fb47f128",
   "metadata": {},
   "outputs": [
    {
     "data": {
      "text/plain": [
       "4"
      ]
     },
     "execution_count": 47,
     "metadata": {},
     "output_type": "execute_result"
    }
   ],
   "source": [
    "# c. Compute the sum of the diagonal element of a given array.\n",
    "arr = np.array([[0, 1, 2], [3, 4, 5]])\n",
    "sum_diagonal = np.trace(arr)\n",
    "sum_diagonal"
   ]
  },
  {
   "cell_type": "code",
   "execution_count": 49,
   "id": "83ffa38b",
   "metadata": {},
   "outputs": [
    {
     "data": {
      "text/plain": [
       "array([[1, 2, 3],\n",
       "       [4, 5, 6]])"
      ]
     },
     "execution_count": 49,
     "metadata": {},
     "output_type": "execute_result"
    }
   ],
   "source": [
    "# d. Write a NumPy program to create a new shape to an array without changing its data.\n",
    "arr = np.array([[1, 2], [3, 4], [5, 6]])\n",
    "new_arr = arr.reshape(2,3)\n",
    "new_arr"
   ]
  },
  {
   "cell_type": "code",
   "execution_count": 50,
   "id": "1bc65ce1",
   "metadata": {},
   "outputs": [
    {
     "data": {
      "text/plain": [
       "array([[1, 2],\n",
       "       [3, 4],\n",
       "       [5, 6]])"
      ]
     },
     "execution_count": 50,
     "metadata": {},
     "output_type": "execute_result"
    }
   ],
   "source": [
    "arr = np.array([[1, 2, 3], [4, 5, 6]])\n",
    "new_arr = arr.reshape(3,2)\n",
    "new_arr"
   ]
  },
  {
   "cell_type": "code",
   "execution_count": null,
   "id": "af7e47d1",
   "metadata": {},
   "outputs": [],
   "source": [
    "2. Matplotlib"
   ]
  },
  {
   "cell_type": "code",
   "execution_count": 122,
   "id": "024c50e3",
   "metadata": {},
   "outputs": [
    {
     "data": {
      "image/png": "[encoded data removed]",
      "text/plain": [
       "<Figure size 432x288 with 1 Axes>"
      ]
     },
     "metadata": {},
     "output_type": "display_data"
    }
   ],
   "source": [
    "#Write a Python programming to create a below chart of the popularity of programming Languages.\n",
    "import matplotlib.pyplot as plt\n",
    "languages = ['Java', 'Python', 'PHP', 'JavaScript', 'C#', 'C++']\n",
    "popularity = [22.2, 17.6, 8.8, 8, 7.7, 6.7]\n",
    "explode = [0.1, 0, 0, 0, 0, 0]\n",
    "plt.pie(popularity, labels=languages, startangle=135, shadow=True, explode= explode, \n",
    "        wedgeprops = {\"edgecolor\" : \"black\",'linewidth': 1},\n",
    "        autopct='%1.1f%%')\n",
    "plt.title('Popularity of Programming Languages')\n",
    "plt.axis('equal')\n",
    "plt.show()"
   ]
  }
 ],
 "metadata": {
  "kernelspec": {
   "display_name": "Python 3 (ipykernel)",
   "language": "python",
   "name": "python3"
  },
  "language_info": {
   "codemirror_mode": {
    "name": "ipython",
    "version": 3
   },
   "file_extension": ".py",
   "mimetype": "text/x-python",
   "name": "python",
   "nbconvert_exporter": "python",
   "pygments_lexer": "ipython3",
   "version": "3.9.12"
  }
 },
 "nbformat": 4,
 "nbformat_minor": 5
}
